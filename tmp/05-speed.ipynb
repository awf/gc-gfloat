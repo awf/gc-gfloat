{
 "cells": [
  {
   "cell_type": "code",
   "execution_count": 1,
   "metadata": {},
   "outputs": [],
   "source": [
    "# Copyright (c) 2024 Graphcore Ltd. All rights reserved.\n",
    "\n",
    "import gfloat\n",
    "from gfloat.formats import format_info_ocp_e5m2\n",
    "import ml_dtypes\n",
    "import numpy as np\n",
    "\n",
    "%load_ext autoreload\n",
    "%autoreload 2"
   ]
  },
  {
   "cell_type": "code",
   "execution_count": 2,
   "metadata": {},
   "outputs": [],
   "source": [
    "import gfloat.formats\n",
    "\n",
    "\n",
    "def slow_round_ndarray(fi, a):\n",
    "    return np.array([gfloat.round_float(fi, x) for x in a])\n",
    "\n",
    "\n",
    "a = np.random.randn(1024)\n",
    "\n",
    "a8 = a.astype(ml_dtypes.float8_e5m2).astype(np.float64)\n",
    "\n",
    "g8 = gfloat.round_ndarray(format_info_ocp_e5m2, a)\n",
    "\n",
    "np.testing.assert_equal(a8, g8)\n",
    "\n",
    "g8s = slow_round_ndarray(format_info_ocp_e5m2, a)\n",
    "\n",
    "np.testing.assert_equal(a8, g8s)"
   ]
  },
  {
   "cell_type": "code",
   "execution_count": 3,
   "metadata": {},
   "outputs": [
    {
     "name": "stdout",
     "output_type": "stream",
     "text": [
      "310 µs ± 21.4 µs per loop (mean ± std. dev. of 7 runs, 1,000 loops each)\n",
      "6.03 ms ± 418 µs per loop (mean ± std. dev. of 7 runs, 100 loops each)\n",
      "733 ms ± 40.1 ms per loop (mean ± std. dev. of 7 runs, 1 loop each)\n"
     ]
    }
   ],
   "source": [
    "N = 100_000\n",
    "a = np.random.rand(N)\n",
    "%timeit a.astype(ml_dtypes.float8_e5m2)\n",
    "\n",
    "%timeit gfloat.round_ndarray(format_info_ocp_e5m2, a)\n",
    "\n",
    "%timeit slow_round_ndarray(format_info_ocp_e5m2, a)"
   ]
  }
 ],
 "metadata": {
  "kernelspec": {
   "display_name": "Python 3",
   "language": "python",
   "name": "python3"
  },
  "language_info": {
   "codemirror_mode": {
    "name": "ipython",
    "version": 3
   },
   "file_extension": ".py",
   "mimetype": "text/x-python",
   "name": "python",
   "nbconvert_exporter": "python",
   "pygments_lexer": "ipython3",
   "version": "3.10.0"
  }
 },
 "nbformat": 4,
 "nbformat_minor": 2
}
