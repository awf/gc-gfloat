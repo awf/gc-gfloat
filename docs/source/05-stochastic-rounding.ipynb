{
 "cells": [
  {
   "cell_type": "code",
   "execution_count": 1,
   "metadata": {},
   "outputs": [],
   "source": [
    "# Copyright (c) 2024 Graphcore Ltd. All rights reserved.\n",
    "\n",
    "from matplotlib import pyplot as plt\n",
    "import numpy as np\n",
    "from gfloat import *\n",
    "from gfloat.formats import format_info_ocp_e5m2"
   ]
  },
  {
   "cell_type": "markdown",
   "metadata": {},
   "source": [
    "# Stochastic rounding\n",
    "\n",
    "This notebook does some simple experiments with stochastic rounding.\n",
    "\n",
    "The first is to plot the mean rounded value for a relatively small number of bits (2 bits). "
   ]
  },
  {
   "cell_type": "code",
   "execution_count": 2,
   "metadata": {},
   "outputs": [],
   "source": [
    "fi = format_info_ocp_e5m2\n",
    "\n",
    "vs = np.arange(3.1, 6.9, 1 / 117)\n",
    "# Round to nearest\n",
    "rn = round_ndarray(fi, vs)\n",
    "\n",
    "fig, (ax1, ax2) = plt.subplots(1, 2, figsize=(12, 5))\n",
    "fig.suptitle(\"SR vs SRFast\")\n",
    "\n",
    "for rnd in (RoundMode.Stochastic, RoundMode.StochasticFast):\n",
    "    ax = ax1 if rnd == RoundMode.Stochastic else ax2\n",
    "    ax.plot(vs, vs, label=\"True value\", color=\"k\")\n",
    "    ax.plot(vs, rn, label=\"Round to nearest\", color=\"orange\")\n",
    "\n",
    "    # Stochastic rounding\n",
    "    srnumbits = 2\n",
    "    rvs = np.zeros_like(vs)\n",
    "    nsamples = 1000\n",
    "    for n in range(nsamples):\n",
    "        srbits = np.random.randint(0, 2**srnumbits, vs.shape)\n",
    "        rvs += [\n",
    "            round_float(fi, v, rnd, sat=False, srbits=srbits, srnumbits=srnumbits)\n",
    "            for v, srbits in zip(vs, srbits)\n",
    "        ]\n",
    "    rvs /= nsamples\n",
    "    color = \"green\" if rnd == RoundMode.Stochastic else \"blue\"\n",
    "    ax.plot(vs, rvs, label=f\"{rnd}, {srnumbits} bits\", color=color)\n",
    "\n",
    "    ax.set_xlabel(\"Input float value\")\n",
    "    ax.set_ylabel(f\"Average of rounded values, {nsamples} samples\")\n",
    "    ax.set_yticks(np.unique(rn))\n",
    "    ax.legend()"
   ]
  },
  {
   "cell_type": "markdown",
   "metadata": {},
   "source": [
    "We can see that, in simple terms, the orange (pale) line is closer to the black line than the (darker) green line.  That is, on average, stochastic rounding preserves accuracy that other roundings do not.  We can also see that the \"StochasticFast\" mode has a bias, in that rounded values are always above the y=x line, although the accuracy remains better than rounding to nearest."
   ]
  },
  {
   "cell_type": "markdown",
   "metadata": {},
   "source": [
    "To visualize the difference between the two modes, this piece of ascii art shows how the SR bits select whether to round down or up based on the input value:"
   ]
  },
  {
   "cell_type": "code",
   "execution_count": null,
   "metadata": {},
   "outputs": [
    {
     "name": "stdout",
     "output_type": "stream",
     "text": [
      "SR  5.000   5.125   5.250   5.375   5.500   5.625   5.750   5.875   6.000  \n",
      "00  _________████████████████████████████████████████████████████████\n",
      "01  _________________________████████████████████████████████████████\n",
      "10  _________________________________________████████████████████████\n",
      "11  _________________________________________________________████████\n",
      "\n",
      "SR  5.000   5.125   5.250   5.375   5.500   5.625   5.750   5.875   6.000  \n",
      "00  _████████████████████████████████████████████████████████████████\n",
      "01  _________________████████████████████████████████████████████████\n",
      "10  _________________________________████████████████████████████████\n",
      "11  _________________________________________________████████████████\n",
      "\n"
     ]
    }
   ],
   "source": [
    "for rnd in (RoundMode.Stochastic, RoundMode.StochasticFast):\n",
    "    vs = np.arange(5, 6 + 1 / 64, 1 / 64)\n",
    "    print(f\"SR \", \" \".join(f\"{v:<7.3f}\" for v in np.arange(5, 6.001, 1 / 8)))\n",
    "\n",
    "    for srbits in range(2**srnumbits):\n",
    "        r = [\n",
    "            round_float(fi, v, rnd, sat=False, srbits=srbits, srnumbits=srnumbits)\n",
    "            for v in vs\n",
    "        ]\n",
    "        print(f\"{srbits:02b} \", \"\".join((\"_\" if r == 5 else \"█\") for r in r))\n",
    "    print(\"\")"
   ]
  },
  {
   "cell_type": "markdown",
   "metadata": {},
   "source": [
    "And in non-ascii art:"
   ]
  },
  {
   "cell_type": "code",
   "execution_count": null,
   "metadata": {},
   "outputs": [
    {
     "data": {
      "image/png": "[encoded data removed]",
      "text/plain": [
       "<Figure size 1200x100 with 2 Axes>"
      ]
     },
     "metadata": {},
     "output_type": "display_data"
    }
   ],
   "source": [
    "import matplotlib.patches as patches\n",
    "import matplotlib.lines as lines\n",
    "import matplotlib.text\n",
    "\n",
    "fig, axs = plt.subplots(1, 2, figsize=(12, 1))\n",
    "\n",
    "for i in (0, 1):\n",
    "    ax = axs[i]\n",
    "    ax.set_xlim(-0.2, 1.2)\n",
    "    ax.set_ylim(-1, 1)\n",
    "\n",
    "    h = 0.1\n",
    "    for k in range(4):\n",
    "        kv = k / 4 + 1 / 8 * i + 0.001\n",
    "        l = lines.Line2D([kv, kv], [-h, h], color=\"k\")\n",
    "        ax.add_line(l)\n",
    "        ax.text(kv + 0.01, 0.01, f\"{k:02b}>\")\n",
    "\n",
    "    h = 0.2\n",
    "    sty = dict(color=\"r\")\n",
    "    ax.add_line(lines.Line2D([0, 1], [0, 0], **sty))\n",
    "    ax.add_line(lines.Line2D([0, 0], [-h, h], **sty))\n",
    "    ax.add_line(lines.Line2D([1, 1], [-h, h], **sty))\n",
    "\n",
    "    ax.set_axis_off()"
   ]
  }
 ],
 "metadata": {
  "kernelspec": {
   "display_name": "Python 3",
   "language": "python",
   "name": "python3"
  },
  "language_info": {
   "codemirror_mode": {
    "name": "ipython",
    "version": 3
   },
   "file_extension": ".py",
   "mimetype": "text/x-python",
   "name": "python",
   "nbconvert_exporter": "python",
   "pygments_lexer": "ipython3",
   "version": "3.10.0"
  }
 },
 "nbformat": 4,
 "nbformat_minor": 2
}
